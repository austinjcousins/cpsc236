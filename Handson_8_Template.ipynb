{
 "cells": [
  {
   "cell_type": "markdown",
   "metadata": {},
   "source": [
    "# Strings\n",
    "\n",
    "To submit this assignment in D2l, post the link to your notebook file on your GitHub account."
   ]
  },
  {
   "cell_type": "markdown",
   "metadata": {},
   "source": [
    "## 10.1 Email Creator\n",
    "Create a program that reads a file and creates a series of emails.\n",
    "\n",
    "### Console:\n",
    "```powershell\n",
    "Email Creator\n",
    "\n",
    "================================================================\n",
    "To: jbutler@gmail.com \n",
    "From: noreply@deals.com \n",
    "Subject: Deals!\n",
    "\n",
    "Hi James,\n",
    "\n",
    "We've got some great deals for you. Check our website!\n",
    "================================================================\n",
    "To:\tjosephine_darakjy@darakjy.org \n",
    "From:\tnoreply@deals.com\n",
    "Subject: Deals! \n",
    "\n",
    "Hi Josephine,\n",
    "\n",
    "We've got some great deals for you. Check our website!\n",
    "================================================================\n",
    "To:\tart@venere.org\n",
    "From:\tnoreply@deals.com \n",
    "Subject: Deals!\n",
    "\n",
    "Hi Art,\n",
    "\n",
    "We've got some great deals for you. Check our website!\n",
    "```\n",
    "\n",
    "### Specifications:\n",
    "- Use `email.csv` file:\n",
    "- Use `email_template.txt` file:\n",
    "- When the program starts, it should read the email addresses and first names from the file, merge them into the mass email template, and display the results on the console.\n",
    "- All email addresses should be converted to **lowercase**.\n",
    "- All first names should be converted to **title case**.\n",
    "- If you add names to the list of email addresses, the program should create more emails.\n",
    "- If you modify the template, the program should change the content of the email that’s created. \n",
    "\n"
   ]
  },
  {
   "cell_type": "code",
   "execution_count": 7,
   "metadata": {},
   "outputs": [
    {
     "name": "stdout",
     "output_type": "stream",
     "text": [
      "Email Creator\n",
      "\n",
      "========================================================================\n",
      "\n",
      "Loaded 3 emails.\n",
      "========================================================================\n",
      "To:      jbutt@gmail.com\n",
      "From:    noreply@deals.com\n",
      "Subject: Deals!\n",
      "\n",
      "Hi James,\n",
      "\n",
      "We've got some great deals for you. Check our website!\n",
      "========================================================================\n",
      "To:      josephine_darakjy@darakjy.org\n",
      "From:    noreply@deals.com\n",
      "Subject: Deals!\n",
      "\n",
      "Hi Josephine,\n",
      "\n",
      "We've got some great deals for you. Check our website!\n",
      "========================================================================\n",
      "To:      art@venere.org\n",
      "From:    noreply@deals.com\n",
      "Subject: Deals!\n",
      "\n",
      "Hi Art,\n",
      "\n",
      "We've got some great deals for you. Check our website!\n"
     ]
    }
   ],
   "source": [
    "def title():\n",
    "    print(\"Email Creator\\n\")\n",
    "    print(\"=\" * 72)\n",
    "\n",
    "def read_emails(filename):\n",
    "    email_list = []\n",
    "    try:\n",
    "        with open(filename, \"r\") as file:\n",
    "            for line_num, line in enumerate(file, start=1):\n",
    "                parts = line.strip().split(\",\")  \n",
    "                if len(parts) < 3:\n",
    "                    print(f\"Skipping invalid line {line_num}: {line.strip()}\")\n",
    "                    continue\n",
    "                first_name = parts[0].strip().title()\n",
    "                email = parts[2].strip().lower()\n",
    "                email_list.append((email, first_name))\n",
    "    except FileNotFoundError:\n",
    "        print(f\"Error: Cannot find the file '{filename}'.\")\n",
    "    return email_list\n",
    "\n",
    "def read_template(filename):\n",
    "    try:\n",
    "        with open(filename, \"r\") as file:\n",
    "            return file.read()\n",
    "    except FileNotFoundError:\n",
    "        print(f\"Error: Cannot find the template file '{filename}'.\")\n",
    "        return \"\"\n",
    "\n",
    "def create_emails(email_list, template):\n",
    "    for email, name in email_list:\n",
    "        print(\"=\" * 72)\n",
    "        personalized = template.replace(\"{first_name}\", name).replace(\"{email}\", email)\n",
    "        print(personalized)\n",
    "\n",
    "def main():\n",
    "    title()\n",
    "    email_list = read_emails(\"email.csv\")\n",
    "    print(f\"\\nLoaded {len(email_list)} emails.\")\n",
    "    template = read_template(\"email_template.txt\")\n",
    "    if not template:\n",
    "        print(\"Template is empty. Exiting.\")\n",
    "        return\n",
    "    if email_list:\n",
    "        create_emails(email_list, template)\n",
    "    else:\n",
    "        print(\"No emails to send.\")\n",
    "\n",
    "if __name__ == \"__main__\":\n",
    "    main()\n"
   ]
  },
  {
   "cell_type": "markdown",
   "metadata": {},
   "source": [
    "## 10.2 Pig Latin Translator\n",
    "\n",
    "Create a program that translates English to Pig Latin.\n",
    "\n",
    "### Console:\n",
    "```powershell\n",
    "Pig Latin Translator\n",
    "\n",
    "Enter text: Tis but a scratch. \n",
    "English:\ttis but a scratch\n",
    "Pig Latin:\tistay utbay away atchscray \n",
    "\n",
    "Continue? (y/n): y\n",
    "\n",
    "Enter text: We are the knights who say nee!\n",
    "English:\twe are the knights who say nee\n",
    "Pig Latin:\teway areway ethay ightsknay owhay aysay eenay \n",
    "\n",
    "Continue? (y/n): n\n",
    "\n",
    "Bye!\n",
    "```\n",
    "\n",
    "### Specifications:\n",
    "- Convert the English to lowercase before translating.\n",
    "- Remove the following punctuation characters before translating `! , ; : - . ?`\n",
    "- Assume that words are separated from each other by a single space.\n",
    "- If the word starts with a vowel, just add *way* to the end of the word.\n",
    "- If the word starts with a consonant, move all of the consonants that appear before the first vowel to the end of the word, then add *ay* to the end of the word.\n",
    "\n",
    "### Note:\n",
    "- There are no official rules for Pig Latin. Most people agree on how words that begin with consonants are translated, but there are many different ways to handle words that begin with vowels.\n"
   ]
  },
  {
   "cell_type": "code",
   "execution_count": 9,
   "metadata": {},
   "outputs": [
    {
     "name": "stdout",
     "output_type": "stream",
     "text": [
      "Pig Latin Translator\n",
      "\n"
     ]
    },
    {
     "name": "stdin",
     "output_type": "stream",
     "text": [
      "Enter text:  hi my name is austin cousins \n"
     ]
    },
    {
     "name": "stdout",
     "output_type": "stream",
     "text": [
      "English:\thi my name is austin cousins \n",
      "Pig Latin:\tihay myay amenay isway austinway ousinscay\n",
      "\n"
     ]
    },
    {
     "name": "stdin",
     "output_type": "stream",
     "text": [
      "Continue? (y/n):  n\n"
     ]
    },
    {
     "name": "stdout",
     "output_type": "stream",
     "text": [
      "\n",
      "Bye!\n"
     ]
    }
   ],
   "source": [
    "import string\n",
    "\n",
    "def title():\n",
    "    print(\"Pig Latin Translator\\n\")\n",
    "\n",
    "def clean_text(text):\n",
    "    text = text.lower()\n",
    "    for char in \"!.,;:-?\":\n",
    "        text = text.replace(char, \"\")\n",
    "    return text\n",
    "\n",
    "def is_vowel(char):\n",
    "    return char in \"aeiou\"\n",
    "\n",
    "def translate_word(word):\n",
    "    if is_vowel(word[0]):\n",
    "        return word + \"way\"\n",
    "    else:\n",
    "        for i in range(len(word)):\n",
    "            if is_vowel(word[i]):\n",
    "                return word[i:] + word[:i] + \"ay\"\n",
    "        return word + \"ay\" \n",
    "\n",
    "def translate_sentence(sentence):\n",
    "    cleaned = clean_text(sentence)\n",
    "    words = cleaned.split()\n",
    "    translated = [translate_word(word) for word in words]\n",
    "    return cleaned, \" \".join(translated)\n",
    "\n",
    "def main():\n",
    "    title()\n",
    "    while True:\n",
    "        text = input(\"Enter text: \")\n",
    "        english, pig_latin = translate_sentence(text)\n",
    "        print(f\"English:\\t{english}\")\n",
    "        print(f\"Pig Latin:\\t{pig_latin}\\n\")\n",
    "\n",
    "        cont = input(\"Continue? (y/n): \").strip().lower()\n",
    "        if cont != \"y\":\n",
    "            print(\"\\nBye!\")\n",
    "            break\n",
    "\n",
    "if __name__ == \"__main__\":\n",
    "    main()\n"
   ]
  },
  {
   "cell_type": "code",
   "execution_count": null,
   "metadata": {},
   "outputs": [],
   "source": []
  }
 ],
 "metadata": {
  "kernelspec": {
   "display_name": "Python [conda env:base] *",
   "language": "python",
   "name": "conda-base-py"
  },
  "language_info": {
   "codemirror_mode": {
    "name": "ipython",
    "version": 3
   },
   "file_extension": ".py",
   "mimetype": "text/x-python",
   "name": "python",
   "nbconvert_exporter": "python",
   "pygments_lexer": "ipython3",
   "version": "3.12.7"
  }
 },
 "nbformat": 4,
 "nbformat_minor": 4
}
