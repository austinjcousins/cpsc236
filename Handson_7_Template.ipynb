{
 "cells": [
  {
   "cell_type": "markdown",
   "metadata": {},
   "source": [
    "# Exceptions\n",
    "\n",
    "To submit this assignment in D2l, post the link to your notebook file on your GitHub account."
   ]
  },
  {
   "cell_type": "markdown",
   "metadata": {},
   "source": [
    "## 8.1 Tip Calculator\n",
    "Add exception handling to a Tip Calculator program.\n",
    "\n",
    "### Console:\n",
    "```powershell\n",
    "Tip Calculator\n",
    "\n",
    "INPUT\n",
    "Cost of meal: ten\n",
    "Must be valid decimal number. Please try again. \n",
    "Cost of meal: -10\n",
    "Must be greater than 0. Please try again. \n",
    "Cost of meal: 52.31\n",
    "Tip percent:\t17.5\n",
    "Must be valid integer. Please try again. \n",
    "Tip percent:\t20\n",
    "\n",
    "OUTPUT\n",
    "Cost of meal:   52.31 \n",
    "Tip percent:    20%\n",
    "Tip amount:     10.46\n",
    "Total amount:   62.77\n",
    "```\n",
    "\n",
    "### Specifications:\n",
    "- The program should accept **decimal** entries like 52.31 and 15.5 for the cost of the meal.\n",
    "- The program should accept **integer** entries like 15, 20, 25 for the tip percent.\n",
    "- The program should validate both user entries. That way, the user can’t crash the program by entering invalid data.\n",
    "- The program should only accept numbers that are **greater than 0**.\n",
    "- The program should round results to a maximum of two decimal places.\n"
   ]
  },
  {
   "cell_type": "code",
   "execution_count": 1,
   "metadata": {},
   "outputs": [
    {
     "name": "stdout",
     "output_type": "stream",
     "text": [
      "Tip Calculator\n",
      "\n"
     ]
    },
    {
     "name": "stdin",
     "output_type": "stream",
     "text": [
      "Cost of meal:  ten\n"
     ]
    },
    {
     "name": "stdout",
     "output_type": "stream",
     "text": [
      "Must be valid decimal number. Please try again.\n"
     ]
    },
    {
     "name": "stdin",
     "output_type": "stream",
     "text": [
      "Cost of meal:  -10\n"
     ]
    },
    {
     "name": "stdout",
     "output_type": "stream",
     "text": [
      "Must be greater than 0. Please try again.\n"
     ]
    },
    {
     "name": "stdin",
     "output_type": "stream",
     "text": [
      "Cost of meal:  52.31\n",
      "Tip percent:  17.5\n"
     ]
    },
    {
     "name": "stdout",
     "output_type": "stream",
     "text": [
      "Must be valid integer. Please try again.\n"
     ]
    },
    {
     "name": "stdin",
     "output_type": "stream",
     "text": [
      "Tip percent:  20\n"
     ]
    },
    {
     "name": "stdout",
     "output_type": "stream",
     "text": [
      "\n",
      "OUTPUT\n",
      "Cost of meal:   52.31\n",
      "Tip percent:    20%\n",
      "Tip amount:     10.46\n",
      "Total amount:   62.77\n"
     ]
    }
   ],
   "source": [
    "print(\"Tip Calculator\\n\")\n",
    "\n",
    "while True:\n",
    "    try:\n",
    "        cost = float(input(\"Cost of meal: \"))\n",
    "        if cost <= 0:\n",
    "            print(\"Must be greater than 0. Please try again.\")\n",
    "        else:\n",
    "            break \n",
    "    except ValueError: \n",
    "        print(\"Must be valid decimal number. Please try again.\")\n",
    "\n",
    "while True:\n",
    "    try:\n",
    "        tip_percent = int(input(\"Tip percent: \"))\n",
    "        if tip_percent <= 0:  \n",
    "            print(\"Must be greater than 0. Please try again.\")\n",
    "        else:\n",
    "            break \n",
    "    except ValueError:  \n",
    "        print(\"Must be valid integer. Please try again.\")\n",
    "\n",
    "tip_amount = round(cost * tip_percent / 100, 2)\n",
    "\n",
    "total_amount = round(cost + tip_amount, 2)\n",
    "\n",
    "print(\"\\nOUTPUT\")\n",
    "print(f\"Cost of meal:   {cost:.2f}\")\n",
    "print(f\"Tip percent:    {tip_percent}%\")\n",
    "print(f\"Tip amount:     {tip_amount:.2f}\")\n",
    "print(f\"Total amount:   {total_amount:.2f}\")"
   ]
  },
  {
   "cell_type": "markdown",
   "metadata": {},
   "source": [
    "## 8.2 Wizard Inventory\n",
    "\n",
    "Add exception handling to a program that keeps track of the inventory of items that a wizard can carry. If you still have Wizard Inventory from Handson_5, you can add the exception handling to that program. Otherwise, you can start this program from scratch.\n",
    "\n",
    "### Console if the program can't find the **inventory** file:\n",
    "```powershell\n",
    "The Wizard Inventory program\n",
    "\n",
    "COMMAND MENU\n",
    "walk - Walk down the path \n",
    "show - Show all items \n",
    "drop - Drop an item\n",
    "exit - Exit program\n",
    "\n",
    "Could not find inventory file!\n",
    "Wizard is starting with no inventory.\n",
    "\n",
    "Command: walk\n",
    "While walking down a path, you see a crossbow.\n",
    "Do you want to grab it? (y/n): y\n",
    "You picked up a crossbow.\n",
    "\n",
    "Command: show\n",
    "1. a crossbow\n",
    "\n",
    "Command: drop Number: x\n",
    "Invalid item number.\n",
    "```\n",
    "\n",
    "### The error message if the program can’t find the **items** file:\n",
    "```powershell\n",
    "Could not find items file.\t\n",
    "Exiting program. Bye!\t\n",
    "```\n",
    "\n",
    "### Specifications:\n",
    "- This program should read the text file named `wizard_all_items.txt` that contains all the items a wizard can carry.\n",
    "- When the user selects the walk command, the program should randomly pick one of the items that were read from the text file and give the user the option to grab it.\n",
    "- The current items that the wizard is carrying should be saved in an inventory file. Make sure to update this file every time the user grabs or drops an item.\n",
    "- The wizard can only carry four items at a time. For the drop command, display an error message if the user enters an invalid integer or an integer that doesn’t correspond with an item.\n",
    "- Handle all exceptions that might occur so that the user can’t cause the program to crash. If the all items file is missing, display an appropriate error message and exit the program.\n",
    "- If the inventory file is missing, display an appropriate error message and continue with an empty inventory for the user. That way, the program will write a new inventory file when the user adds items to the inventory."
   ]
  },
  {
   "cell_type": "code",
   "execution_count": 11,
   "metadata": {},
   "outputs": [
    {
     "name": "stdout",
     "output_type": "stream",
     "text": [
      "The Wizard Inventory program\n",
      "\n",
      "COMMAND MENU\n",
      "walk - Walk down the path\n",
      "show - Show all items\n",
      "drop - Drop an item\n",
      "exit - Exit program\n",
      "\n"
     ]
    },
    {
     "name": "stdin",
     "output_type": "stream",
     "text": [
      "Command:  Walk\n"
     ]
    },
    {
     "name": "stdout",
     "output_type": "stream",
     "text": [
      "While walking down a path, you see a a wizard's cloak.\n"
     ]
    },
    {
     "name": "stdin",
     "output_type": "stream",
     "text": [
      "Do you want to grab it? (y/n):  y\n"
     ]
    },
    {
     "name": "stdout",
     "output_type": "stream",
     "text": [
      "You can't carry any more items. Drop something first.\n",
      "\n"
     ]
    },
    {
     "name": "stdin",
     "output_type": "stream",
     "text": [
      "Command:  drop\n",
      "Drop Number:  2\n"
     ]
    },
    {
     "name": "stdout",
     "output_type": "stream",
     "text": [
      "You dropped a a scroll of uncursing.\n",
      "\n"
     ]
    },
    {
     "name": "stdin",
     "output_type": "stream",
     "text": [
      "Command:  show\n"
     ]
    },
    {
     "name": "stdout",
     "output_type": "stream",
     "text": [
      "1. wooden staff\n",
      "2. a cloak of invisibility\n",
      "3. an unknown potion\n",
      "\n"
     ]
    },
    {
     "name": "stdin",
     "output_type": "stream",
     "text": [
      "Command:  drop\n",
      "Drop Number:  x\n"
     ]
    },
    {
     "name": "stdout",
     "output_type": "stream",
     "text": [
      "Invalid item number.\n",
      "\n"
     ]
    },
    {
     "name": "stdin",
     "output_type": "stream",
     "text": [
      "Command:  exit\n"
     ]
    },
    {
     "name": "stdout",
     "output_type": "stream",
     "text": [
      "Bye!\n"
     ]
    }
   ],
   "source": [
    "import random\n",
    "import os\n",
    "\n",
    "INVENTORY_FILE = \"wizard_inventory.txt\"\n",
    "ALL_ITEMS_FILE = \"wizard_all_items.txt\"\n",
    "MAX_ITEMS = 4\n",
    "\n",
    "\n",
    "def load_all_items():\n",
    "    try:\n",
    "        with open(ALL_ITEMS_FILE, \"r\") as file:\n",
    "            items = [line.strip() for line in file if line.strip()]\n",
    "            return items\n",
    "    except FileNotFoundError:\n",
    "        print(\"Could not find items file.\")\n",
    "        print(\"Exiting program. Bye!\")\n",
    "        exit()\n",
    "\n",
    "\n",
    "def load_inventory():\n",
    "    try:\n",
    "        with open(INVENTORY_FILE, \"r\") as file:\n",
    "            inventory = [line.strip() for line in file if line.strip()]\n",
    "            return inventory\n",
    "    except FileNotFoundError:\n",
    "        print(\"Could not find inventory file!\")\n",
    "        print(\"Wizard is starting with no inventory.\\n\")\n",
    "        return []\n",
    "\n",
    "\n",
    "def save_inventory(inventory):\n",
    "    with open(INVENTORY_FILE, \"w\") as file:\n",
    "        for item in inventory:\n",
    "            file.write(item + \"\\n\")\n",
    "\n",
    "\n",
    "def show_inventory(inventory):\n",
    "    if not inventory:\n",
    "        print(\"Inventory is empty.\")\n",
    "    else:\n",
    "        for i, item in enumerate(inventory, start=1):\n",
    "            print(f\"{i}. {item}\")\n",
    "    print()\n",
    "\n",
    "\n",
    "def walk(items, inventory):\n",
    "    item_found = random.choice(items)\n",
    "    print(f\"While walking down a path, you see a {item_found}.\")\n",
    "    choice = input(\"Do you want to grab it? (y/n): \").strip().lower()\n",
    "    if choice == \"y\":\n",
    "        if len(inventory) >= MAX_ITEMS:\n",
    "            print(\"You can't carry any more items. Drop something first.\\n\")\n",
    "        else:\n",
    "            inventory.append(item_found)\n",
    "            save_inventory(inventory)\n",
    "            print(f\"You picked up a {item_found}.\\n\")\n",
    "    else:\n",
    "        print(f\"You left the {item_found} on the ground.\\n\")\n",
    "\n",
    "\n",
    "def drop(inventory):\n",
    "    if not inventory:\n",
    "        print(\"You have no items to drop.\\n\")\n",
    "        return\n",
    "    try:\n",
    "        number = int(input(\"Drop Number: \"))\n",
    "        if 1 <= number <= len(inventory):\n",
    "            dropped = inventory.pop(number - 1)\n",
    "            save_inventory(inventory)\n",
    "            print(f\"You dropped a {dropped}.\\n\")\n",
    "        else:\n",
    "            print(\"Invalid item number.\\n\")\n",
    "    except ValueError:\n",
    "        print(\"Invalid item number.\\n\")\n",
    "\n",
    "\n",
    "def main():\n",
    "    print(\"The Wizard Inventory program\\n\")\n",
    "    print(\"COMMAND MENU\")\n",
    "    print(\"walk - Walk down the path\")\n",
    "    print(\"show - Show all items\")\n",
    "    print(\"drop - Drop an item\")\n",
    "    print(\"exit - Exit program\\n\")\n",
    "\n",
    "    all_items = load_all_items()    \n",
    "    inventory = load_inventory()   \n",
    "\n",
    "    while True:\n",
    "        command = input(\"Command: \").strip().lower()\n",
    "        if command == \"walk\":\n",
    "            walk(all_items, inventory)\n",
    "        elif command == \"show\":\n",
    "            show_inventory(inventory)\n",
    "        elif command == \"drop\":\n",
    "            drop(inventory)\n",
    "        elif command == \"exit\":\n",
    "            print(\"Bye!\")\n",
    "            break\n",
    "        else:\n",
    "            print(\"Invalid command. Try again.\\n\")\n",
    "            \n",
    "if __name__ == \"__main__\":\n",
    "    main()\n"
   ]
  },
  {
   "cell_type": "code",
   "execution_count": null,
   "metadata": {},
   "outputs": [],
   "source": []
  }
 ],
 "metadata": {
  "kernelspec": {
   "display_name": "Python [conda env:base] *",
   "language": "python",
   "name": "conda-base-py"
  },
  "language_info": {
   "codemirror_mode": {
    "name": "ipython",
    "version": 3
   },
   "file_extension": ".py",
   "mimetype": "text/x-python",
   "name": "python",
   "nbconvert_exporter": "python",
   "pygments_lexer": "ipython3",
   "version": "3.12.7"
  }
 },
 "nbformat": 4,
 "nbformat_minor": 4
}
